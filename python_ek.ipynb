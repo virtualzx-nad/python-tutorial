{
 "cells": [
  {
   "cell_type": "markdown",
   "id": "743c0147",
   "metadata": {},
   "source": [
    "Variables, assignment and operations\n",
    "----\n",
    "We can perform all kinds of numeric, string and other operations and assign the results to be stored in a variable"
   ]
  },
  {
   "cell_type": "code",
   "execution_count": 1,
   "id": "42b0b744",
   "metadata": {},
   "outputs": [
    {
     "name": "stdout",
     "output_type": "stream",
     "text": [
      "125.0 first part of a string second part !!!!!!!!!!\n"
     ]
    }
   ],
   "source": [
    "a_string = \"first part of a string\" + \" second part \" + '!' * 10\n",
    "a_number = 100 + 50 / (3 -1)\n",
    "print(a_number, a_string)"
   ]
  },
  {
   "cell_type": "markdown",
   "id": "33906240",
   "metadata": {},
   "source": [
    "Numbers, String and List\n",
    "----\n",
    "These are basic types of data, which you also have in SmartSearch.   Strings are enquoted in single or double quotes.  `'this'` or `\"that\"`\n",
    "\n",
    "List is very much like that in SmartSearch, representing a list of things.   The difference is that you use brackets to enclose the values. \n"
   ]
  },
  {
   "cell_type": "code",
   "execution_count": 2,
   "id": "db858a17",
   "metadata": {},
   "outputs": [
    {
     "name": "stdout",
     "output_type": "stream",
     "text": [
      "[1, 2, 3, 'a', 5.5, 'bbb']\n"
     ]
    }
   ],
   "source": [
    "a_list = [1,2,3,'a', 4.5+1, 'b'*3]\n",
    "print(a_list)"
   ]
  },
  {
   "cell_type": "markdown",
   "id": "dde623cb",
   "metadata": {},
   "source": [
    "Functions\n",
    "----\n",
    "Function represent some fixed steps of computations to do.  They are there so that you can reuse a piece of program over and over.  Some functions are built into the language, such as print, which prints stuff out.\n",
    "There are also functions such as  sum and len, which gives you the value sum or the length of a list:"
   ]
  },
  {
   "cell_type": "code",
   "execution_count": 3,
   "id": "41a634aa",
   "metadata": {},
   "outputs": [
    {
     "name": "stdout",
     "output_type": "stream",
     "text": [
      "15\n"
     ]
    }
   ],
   "source": [
    "print(sum([1,2,3,4,5]))"
   ]
  },
  {
   "cell_type": "code",
   "execution_count": 4,
   "id": "24c5201e",
   "metadata": {},
   "outputs": [
    {
     "name": "stdout",
     "output_type": "stream",
     "text": [
      "5\n"
     ]
    }
   ],
   "source": [
    "a = [3,4,5,6,7]\n",
    "print(len(a)) "
   ]
  },
  {
   "cell_type": "markdown",
   "id": "dcc63680",
   "metadata": {},
   "source": [
    "You can also define your own functions.  When we define a function, instead of actually doing the sequence of calculation, only the steps are stored.   The calculations are done only when the function is “evaluated”, i.e. when parenthesis appears after the function name (some number)"
   ]
  },
  {
   "cell_type": "code",
   "execution_count": 5,
   "id": "c742b40b",
   "metadata": {},
   "outputs": [],
   "source": [
    "def sum_list(a_list):\n",
    "     return sum(a_list)"
   ]
  },
  {
   "cell_type": "code",
   "execution_count": 6,
   "id": "c8496d9c",
   "metadata": {},
   "outputs": [
    {
     "name": "stdout",
     "output_type": "stream",
     "text": [
      "15\n"
     ]
    }
   ],
   "source": [
    "print(sum_list([1,2,3,4,5]))"
   ]
  },
  {
   "cell_type": "markdown",
   "id": "07c56464",
   "metadata": {},
   "source": [
    "Question\n",
    "---\n",
    "Please define a function that takes a `list` of numbers and returns the average."
   ]
  },
  {
   "cell_type": "code",
   "execution_count": null,
   "id": "cff34778",
   "metadata": {},
   "outputs": [],
   "source": []
  }
 ],
 "metadata": {
  "environment": {
   "name": "common-cpu.m78",
   "type": "gcloud",
   "uri": "gcr.io/deeplearning-platform-release/base-cpu:m78"
  },
  "kernelspec": {
   "display_name": "Python 3",
   "language": "python",
   "name": "python3"
  },
  "language_info": {
   "codemirror_mode": {
    "name": "ipython",
    "version": 3
   },
   "file_extension": ".py",
   "mimetype": "text/x-python",
   "name": "python",
   "nbconvert_exporter": "python",
   "pygments_lexer": "ipython3",
   "version": "3.7.10"
  }
 },
 "nbformat": 4,
 "nbformat_minor": 5
}
