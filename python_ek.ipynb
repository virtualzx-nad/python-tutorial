{
 "cells": [
  {
   "cell_type": "markdown",
   "id": "5875dbfe",
   "metadata": {},
   "source": [
    "Variables, assignment and operations\n",
    "----\n",
    "We can perform all kinds of numeric, string and other operations and assign the results to be stored in a variable"
   ]
  },
  {
   "cell_type": "code",
   "execution_count": 1,
   "id": "5eac2e89",
   "metadata": {},
   "outputs": [
    {
     "name": "stdout",
     "output_type": "stream",
     "text": [
      "125.0 first part of a string second part !!!!!!!!!!\n"
     ]
    }
   ],
   "source": [
    "a_string = \"first part of a string\" + \" second part \" + '!' * 10\n",
    "a_number = 100 + 50 / (3 -1)\n",
    "print(a_number, a_string)"
   ]
  },
  {
   "cell_type": "markdown",
   "id": "625586c8",
   "metadata": {},
   "source": [
    "Numbers, String and List\n",
    "----\n",
    "These are basic types of data, which you also have in SmartSearch.   Strings are enquoted in single or double quotes.  `'this'` or `\"that\"`\n",
    "\n",
    "List is very much like that in SmartSearch, representing a list of things.   The difference is that you use brackets to enclose the values. \n"
   ]
  },
  {
   "cell_type": "code",
   "execution_count": 2,
   "id": "4ae319b9",
   "metadata": {},
   "outputs": [
    {
     "name": "stdout",
     "output_type": "stream",
     "text": [
      "[1, 2, 3, 'a', 5.5, 'bbb']\n"
     ]
    }
   ],
   "source": [
    "a_list = [1,2,3,'a', 4.5+1, 'b'*3]\n",
    "print(a_list)"
   ]
  },
  {
   "cell_type": "markdown",
   "id": "e51aaf31",
   "metadata": {},
   "source": [
    "Functions\n",
    "----\n",
    "Function represent some fixed steps of computations to do.  They are there so that you can reuse a piece of program over and over.  Some functions are built into the language, such as print, which prints stuff out.\n",
    "There are also functions such as  sum and len, which gives you the value sum or the length of a list:"
   ]
  },
  {
   "cell_type": "code",
   "execution_count": 3,
   "id": "7225807c",
   "metadata": {},
   "outputs": [
    {
     "name": "stdout",
     "output_type": "stream",
     "text": [
      "15\n"
     ]
    }
   ],
   "source": [
    "print(sum([1,2,3,4,5]))"
   ]
  },
  {
   "cell_type": "code",
   "execution_count": 4,
   "id": "abdd2aae",
   "metadata": {},
   "outputs": [
    {
     "name": "stdout",
     "output_type": "stream",
     "text": [
      "5\n"
     ]
    }
   ],
   "source": [
    "a = [3,4,5,6,7]\n",
    "print(len(a)) "
   ]
  },
  {
   "cell_type": "markdown",
   "id": "5c11ff90",
   "metadata": {},
   "source": [
    "You can also define your own functions.  When we define a function, instead of actually doing the sequence of calculation, only the steps are stored.   The calculations are done only when the function is “evaluated”, i.e. when parenthesis appears after the function name (some number)"
   ]
  },
  {
   "cell_type": "code",
   "execution_count": 5,
   "id": "ee0269c8",
   "metadata": {},
   "outputs": [],
   "source": [
    "def sum_list(a_list):\n",
    "     return sum(a_list)"
   ]
  },
  {
   "cell_type": "code",
   "execution_count": 6,
   "id": "2544ae1e",
   "metadata": {},
   "outputs": [
    {
     "name": "stdout",
     "output_type": "stream",
     "text": [
      "15\n"
     ]
    }
   ],
   "source": [
    "print(sum_list([1,2,3,4,5]))"
   ]
  },
  {
   "cell_type": "markdown",
   "id": "ac4e4223",
   "metadata": {},
   "source": [
    "In Python, colon `:` and indentations are used to denote structure just like in a google doc.  Everything indented the same way are within the same block of code.  Here, anything indented the same way are part of the same function"
   ]
  },
  {
   "cell_type": "markdown",
   "id": "d60169b0",
   "metadata": {},
   "source": [
    "Question\n",
    "---\n",
    "Please define a function that takes a `list` of numbers and returns the average."
   ]
  },
  {
   "cell_type": "code",
   "execution_count": null,
   "id": "5b10d847",
   "metadata": {},
   "outputs": [],
   "source": []
  },
  {
   "cell_type": "markdown",
   "id": "d29a9a38",
   "metadata": {},
   "source": [
    "Loops and Sequences\n",
    "----\n",
    "A sequence is a thing that is made of a series of smaller things.   For example, a list is made up of a series of elements, which can be numbers, strings etc.  And a string is a series of characters\n",
    "\n",
    "A loop is an important programming construct that lets you run similar code over and over again.  In `Python`, the most often used statement is a `for` loop, which lets a variable takes the values of each items in an series and repeats the code for them."
   ]
  },
  {
   "cell_type": "code",
   "execution_count": 7,
   "id": "fbe7bb88",
   "metadata": {},
   "outputs": [
    {
     "name": "stdout",
     "output_type": "stream",
     "text": [
      "1\n",
      "2\n",
      "3\n",
      "4\n",
      "5\n",
      "last one\n"
     ]
    }
   ],
   "source": [
    "for i in [1, 2, 3, 4, 5, \"last one\"]:\n",
    "    print(i)"
   ]
  },
  {
   "cell_type": "code",
   "execution_count": 8,
   "id": "b8183ead",
   "metadata": {},
   "outputs": [
    {
     "name": "stdout",
     "output_type": "stream",
     "text": [
      "s\n",
      "o\n",
      "m\n",
      "e\n",
      " \n",
      "s\n",
      "t\n",
      "r\n",
      "i\n",
      "n\n",
      "g\n"
     ]
    }
   ],
   "source": [
    "for i in \"some string\":\n",
    "    print(i)"
   ]
  },
  {
   "cell_type": "markdown",
   "id": "0f7da82c",
   "metadata": {},
   "source": [
    "Sequences can also be generated from a function.  `range` is a common one.  By default, it gives you the first `n` integers starting from `0` to `n-1`"
   ]
  },
  {
   "cell_type": "code",
   "execution_count": 10,
   "id": "90e38858",
   "metadata": {},
   "outputs": [
    {
     "name": "stdout",
     "output_type": "stream",
     "text": [
      "0\n",
      "1\n",
      "2\n",
      "3\n",
      "4\n"
     ]
    }
   ],
   "source": [
    "for i in range(5):\n",
    "    print(i)"
   ]
  },
  {
   "cell_type": "markdown",
   "id": "4f48cd0d",
   "metadata": {},
   "source": [
    "You can also tell range where to start.  `range(start, stop, interval)` starts from `start`, increments by `interval` and stops *before* `stop`.  Interval is 1 by default. Product of numbers from 1 to 10"
   ]
  },
  {
   "cell_type": "code",
   "execution_count": 12,
   "id": "50d8d866",
   "metadata": {},
   "outputs": [
    {
     "name": "stdout",
     "output_type": "stream",
     "text": [
      "3628800\n"
     ]
    }
   ],
   "source": [
    "product = 1\n",
    "n = 10\n",
    "for i in range(1, n+1):\n",
    "    product = product * i\n",
    "print(product)"
   ]
  },
  {
   "cell_type": "markdown",
   "id": "fcc31065",
   "metadata": {},
   "source": [
    "Now we can define a function called factorial.  In a function, the `return` statement tells what values to return."
   ]
  },
  {
   "cell_type": "code",
   "execution_count": 14,
   "id": "b5359041",
   "metadata": {},
   "outputs": [],
   "source": [
    "def factorial(n):\n",
    "    product = 1\n",
    "    for i in range(1, n+1):\n",
    "        product = product * i\n",
    "    return product"
   ]
  },
  {
   "cell_type": "code",
   "execution_count": 15,
   "id": "e4efab6e",
   "metadata": {},
   "outputs": [
    {
     "name": "stdout",
     "output_type": "stream",
     "text": [
      "6\n"
     ]
    }
   ],
   "source": [
    "print(factorial(3))"
   ]
  },
  {
   "cell_type": "code",
   "execution_count": 16,
   "id": "3d7ff000",
   "metadata": {},
   "outputs": [
    {
     "name": "stdout",
     "output_type": "stream",
     "text": [
      "3628800\n"
     ]
    }
   ],
   "source": [
    "print(factorial(10))"
   ]
  },
  {
   "cell_type": "markdown",
   "id": "e960f278",
   "metadata": {},
   "source": [
    "Question\n",
    "---\n",
    "Make a function stars(n) that prints out a triangle of stars like this.\n",
    "\n",
    "For n=3:\n",
    "\n",
    "```\n",
    " *\n",
    " **\n",
    " ***\n",
    "```\n",
    "\n",
    "Hint:  you can join strings together with `+`, for example  `'first part' + 'second part')`"
   ]
  },
  {
   "cell_type": "code",
   "execution_count": 19,
   "id": "fc0a5078",
   "metadata": {},
   "outputs": [
    {
     "name": "stdout",
     "output_type": "stream",
     "text": [
      "first partsecond part\n"
     ]
    }
   ],
   "source": [
    "print('first part'+ 'second part')"
   ]
  },
  {
   "cell_type": "markdown",
   "id": "20250e3c",
   "metadata": {},
   "source": [
    "And you can also replicate a string with `*`"
   ]
  },
  {
   "cell_type": "code",
   "execution_count": 22,
   "id": "52f3e53c",
   "metadata": {},
   "outputs": [
    {
     "name": "stdout",
     "output_type": "stream",
     "text": [
      "a worda worda worda worda worda worda worda worda worda word\n"
     ]
    }
   ],
   "source": [
    "print('a word'*10)"
   ]
  },
  {
   "cell_type": "code",
   "execution_count": null,
   "id": "a98f7d64",
   "metadata": {},
   "outputs": [],
   "source": [
    "def stars(n):\n",
    "    "
   ]
  }
 ],
 "metadata": {
  "environment": {
   "name": "common-cpu.m78",
   "type": "gcloud",
   "uri": "gcr.io/deeplearning-platform-release/base-cpu:m78"
  },
  "kernelspec": {
   "display_name": "Python 3",
   "language": "python",
   "name": "python3"
  },
  "language_info": {
   "codemirror_mode": {
    "name": "ipython",
    "version": 3
   },
   "file_extension": ".py",
   "mimetype": "text/x-python",
   "name": "python",
   "nbconvert_exporter": "python",
   "pygments_lexer": "ipython3",
   "version": "3.7.10"
  }
 },
 "nbformat": 4,
 "nbformat_minor": 5
}
